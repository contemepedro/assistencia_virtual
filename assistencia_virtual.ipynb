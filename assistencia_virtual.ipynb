{
  "nbformat": 4,
  "nbformat_minor": 0,
  "metadata": {
    "colab": {
      "provenance": []
    },
    "kernelspec": {
      "name": "python3",
      "display_name": "Python 3"
    },
    "language_info": {
      "name": "python"
    }
  },
  "cells": [
    {
      "cell_type": "code",
      "execution_count": 1,
      "metadata": {
        "colab": {
          "base_uri": "https://localhost:8080/"
        },
        "id": "nPSuaGnNQht_",
        "outputId": "8cd65fb4-7225-4d8b-9f3f-a55d2ef3dddb"
      },
      "outputs": [
        {
          "output_type": "stream",
          "name": "stdout",
          "text": [
            "Collecting gTTS\n",
            "  Downloading gTTS-2.5.4-py3-none-any.whl.metadata (4.1 kB)\n",
            "Requirement already satisfied: requests<3,>=2.27 in /usr/local/lib/python3.11/dist-packages (from gTTS) (2.32.3)\n",
            "Requirement already satisfied: click<8.2,>=7.1 in /usr/local/lib/python3.11/dist-packages (from gTTS) (8.1.8)\n",
            "Requirement already satisfied: charset-normalizer<4,>=2 in /usr/local/lib/python3.11/dist-packages (from requests<3,>=2.27->gTTS) (3.4.1)\n",
            "Requirement already satisfied: idna<4,>=2.5 in /usr/local/lib/python3.11/dist-packages (from requests<3,>=2.27->gTTS) (3.10)\n",
            "Requirement already satisfied: urllib3<3,>=1.21.1 in /usr/local/lib/python3.11/dist-packages (from requests<3,>=2.27->gTTS) (2.3.0)\n",
            "Requirement already satisfied: certifi>=2017.4.17 in /usr/local/lib/python3.11/dist-packages (from requests<3,>=2.27->gTTS) (2025.1.31)\n",
            "Downloading gTTS-2.5.4-py3-none-any.whl (29 kB)\n",
            "Installing collected packages: gTTS\n",
            "Successfully installed gTTS-2.5.4\n"
          ]
        }
      ],
      "source": [
        "!pip install gTTS"
      ]
    },
    {
      "cell_type": "code",
      "source": [
        "from gtts import gTTS\n",
        "from IPython.display import Audio\n",
        "import os\n",
        "\n",
        "def text_to_speech(text, lang=\"en\", filename=\"output.wav\"):\n",
        "    \"\"\"\n",
        "    Converte um texto em áudio e o reproduz.\n",
        "\n",
        "    Parâmetros:\n",
        "    text (str): Texto a ser convertido em fala.\n",
        "    lang (str): Código do idioma (padrão: 'en' para inglês).\n",
        "    filename (str): Nome do arquivo de saída (padrão: 'output.wav').\n",
        "    \"\"\"\n",
        "    gtts_object = gTTS(text=text, lang=lang, slow=False)\n",
        "    gtts_object.save(filename)\n",
        "\n",
        "    # Reproduz o áudio\n",
        "    return Audio(filename, autoplay=True)"
      ],
      "metadata": {
        "id": "8LCJGD2FQ7m0"
      },
      "execution_count": 26,
      "outputs": []
    },
    {
      "cell_type": "code",
      "source": [
        "# Exemplo de uso\n",
        "text_to_speech(\"how are you?\")"
      ],
      "metadata": {
        "colab": {
          "base_uri": "https://localhost:8080/",
          "height": 75
        },
        "id": "3xZX_aW8RRej",
        "outputId": "5cf2a50f-72a8-4e82-c37f-71d34366b28d"
      },
      "execution_count": 28,
      "outputs": [
        {
          "output_type": "execute_result",
          "data": {
            "text/plain": [
              "<IPython.lib.display.Audio object>"
            ],
            "text/html": [
              "\n",
              "                <audio  controls=\"controls\" autoplay=\"autoplay\">\n",
              "                    <source src=\"data:audio/x-wav;base64,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\" type=\"audio/x-wav\" />\n",
              "                    Your browser does not support the audio element.\n",
              "                </audio>\n",
              "              "
            ]
          },
          "metadata": {},
          "execution_count": 28
        }
      ]
    },
    {
      "cell_type": "code",
      "source": [
        "!pip install SpeechRecognition"
      ],
      "metadata": {
        "colab": {
          "base_uri": "https://localhost:8080/"
        },
        "id": "caMNs-SvRokV",
        "outputId": "5f75e984-d603-4bcb-ccf2-86677daf2cd2"
      },
      "execution_count": 5,
      "outputs": [
        {
          "output_type": "stream",
          "name": "stdout",
          "text": [
            "Collecting SpeechRecognition\n",
            "  Downloading SpeechRecognition-3.14.1-py3-none-any.whl.metadata (31 kB)\n",
            "Requirement already satisfied: typing-extensions in /usr/local/lib/python3.11/dist-packages (from SpeechRecognition) (4.12.2)\n",
            "Downloading SpeechRecognition-3.14.1-py3-none-any.whl (32.9 MB)\n",
            "\u001b[2K   \u001b[90m━━━━━━━━━━━━━━━━━━━━━━━━━━━━━━━━━━━━━━━━\u001b[0m \u001b[32m32.9/32.9 MB\u001b[0m \u001b[31m52.1 MB/s\u001b[0m eta \u001b[36m0:00:00\u001b[0m\n",
            "\u001b[?25hInstalling collected packages: SpeechRecognition\n",
            "Successfully installed SpeechRecognition-3.14.1\n"
          ]
        }
      ]
    },
    {
      "cell_type": "code",
      "source": [
        "!pip install playsound"
      ],
      "metadata": {
        "colab": {
          "base_uri": "https://localhost:8080/"
        },
        "id": "vTCtKvf8RvcP",
        "outputId": "c25a6059-6f08-4233-ab10-43c88a8adcb2"
      },
      "execution_count": 7,
      "outputs": [
        {
          "output_type": "stream",
          "name": "stdout",
          "text": [
            "Collecting playsound\n",
            "  Downloading playsound-1.3.0.tar.gz (7.7 kB)\n",
            "  Preparing metadata (setup.py) ... \u001b[?25l\u001b[?25hdone\n",
            "Building wheels for collected packages: playsound\n",
            "  Building wheel for playsound (setup.py) ... \u001b[?25l\u001b[?25hdone\n",
            "  Created wheel for playsound: filename=playsound-1.3.0-py3-none-any.whl size=7020 sha256=5bf09ae3619a7e60660d9566fefe483c10b6846a44307556d64c2cb90f509d9a\n",
            "  Stored in directory: /root/.cache/pip/wheels/50/98/42/62753a9e1fb97579a0ce2f84f7db4c21c09d03bb2091e6cef4\n",
            "Successfully built playsound\n",
            "Installing collected packages: playsound\n",
            "Successfully installed playsound-1.3.0\n"
          ]
        }
      ]
    },
    {
      "cell_type": "code",
      "source": [
        "!pip install pyjokes"
      ],
      "metadata": {
        "colab": {
          "base_uri": "https://localhost:8080/"
        },
        "id": "WzkLN-q2R0Ui",
        "outputId": "3b541281-1dc9-4f06-d539-92500e67c5cc"
      },
      "execution_count": 9,
      "outputs": [
        {
          "output_type": "stream",
          "name": "stdout",
          "text": [
            "Collecting pyjokes\n",
            "  Downloading pyjokes-0.8.3-py3-none-any.whl.metadata (3.4 kB)\n",
            "Downloading pyjokes-0.8.3-py3-none-any.whl (47 kB)\n",
            "\u001b[?25l   \u001b[90m━━━━━━━━━━━━━━━━━━━━━━━━━━━━━━━━━━━━━━━━\u001b[0m \u001b[32m0.0/47.6 kB\u001b[0m \u001b[31m?\u001b[0m eta \u001b[36m-:--:--\u001b[0m\r\u001b[2K   \u001b[90m━━━━━━━━━━━━━━━━━━━━━━━━━━━━━━━━━━━━━━━━\u001b[0m \u001b[32m47.6/47.6 kB\u001b[0m \u001b[31m3.7 MB/s\u001b[0m eta \u001b[36m0:00:00\u001b[0m\n",
            "\u001b[?25hInstalling collected packages: pyjokes\n",
            "Successfully installed pyjokes-0.8.3\n"
          ]
        }
      ]
    },
    {
      "cell_type": "code",
      "source": [
        "!pip install wikipedia"
      ],
      "metadata": {
        "colab": {
          "base_uri": "https://localhost:8080/"
        },
        "id": "tLJvj_Z8R8ev",
        "outputId": "5e9b370a-e921-43bf-adb3-b3f758cd1428"
      },
      "execution_count": 11,
      "outputs": [
        {
          "output_type": "stream",
          "name": "stdout",
          "text": [
            "Collecting wikipedia\n",
            "  Downloading wikipedia-1.4.0.tar.gz (27 kB)\n",
            "  Preparing metadata (setup.py) ... \u001b[?25l\u001b[?25hdone\n",
            "Requirement already satisfied: beautifulsoup4 in /usr/local/lib/python3.11/dist-packages (from wikipedia) (4.13.3)\n",
            "Requirement already satisfied: requests<3.0.0,>=2.0.0 in /usr/local/lib/python3.11/dist-packages (from wikipedia) (2.32.3)\n",
            "Requirement already satisfied: charset-normalizer<4,>=2 in /usr/local/lib/python3.11/dist-packages (from requests<3.0.0,>=2.0.0->wikipedia) (3.4.1)\n",
            "Requirement already satisfied: idna<4,>=2.5 in /usr/local/lib/python3.11/dist-packages (from requests<3.0.0,>=2.0.0->wikipedia) (3.10)\n",
            "Requirement already satisfied: urllib3<3,>=1.21.1 in /usr/local/lib/python3.11/dist-packages (from requests<3.0.0,>=2.0.0->wikipedia) (2.3.0)\n",
            "Requirement already satisfied: certifi>=2017.4.17 in /usr/local/lib/python3.11/dist-packages (from requests<3.0.0,>=2.0.0->wikipedia) (2025.1.31)\n",
            "Requirement already satisfied: soupsieve>1.2 in /usr/local/lib/python3.11/dist-packages (from beautifulsoup4->wikipedia) (2.6)\n",
            "Requirement already satisfied: typing-extensions>=4.0.0 in /usr/local/lib/python3.11/dist-packages (from beautifulsoup4->wikipedia) (4.12.2)\n",
            "Building wheels for collected packages: wikipedia\n",
            "  Building wheel for wikipedia (setup.py) ... \u001b[?25l\u001b[?25hdone\n",
            "  Created wheel for wikipedia: filename=wikipedia-1.4.0-py3-none-any.whl size=11679 sha256=7e56679dfe66a69ff455f26bd6f2fea9d7c893f468e977786c6fbc3c3b644a15\n",
            "  Stored in directory: /root/.cache/pip/wheels/8f/ab/cb/45ccc40522d3a1c41e1d2ad53b8f33a62f394011ec38cd71c6\n",
            "Successfully built wikipedia\n",
            "Installing collected packages: wikipedia\n",
            "Successfully installed wikipedia-1.4.0\n"
          ]
        }
      ]
    },
    {
      "cell_type": "code",
      "source": [
        "!apt install libasound2-dev portaudio19-dev libportaudio2 libportaudiocpp0 ffmpeg"
      ],
      "metadata": {
        "colab": {
          "base_uri": "https://localhost:8080/"
        },
        "id": "LiGW2cGlSkGm",
        "outputId": "d6eed457-37e1-410e-b255-bc4c6d59cbee"
      },
      "execution_count": 17,
      "outputs": [
        {
          "output_type": "stream",
          "name": "stdout",
          "text": [
            "Reading package lists... Done\n",
            "Building dependency tree... Done\n",
            "Reading state information... Done\n",
            "libasound2-dev is already the newest version (1.2.6.1-1ubuntu1).\n",
            "ffmpeg is already the newest version (7:4.4.2-0ubuntu0.22.04.1).\n",
            "Suggested packages:\n",
            "  portaudio19-doc\n",
            "The following NEW packages will be installed:\n",
            "  libportaudio2 libportaudiocpp0 portaudio19-dev\n",
            "0 upgraded, 3 newly installed, 0 to remove and 20 not upgraded.\n",
            "Need to get 188 kB of archives.\n",
            "After this operation, 927 kB of additional disk space will be used.\n",
            "Get:1 http://archive.ubuntu.com/ubuntu jammy/universe amd64 libportaudio2 amd64 19.6.0-1.1 [65.3 kB]\n",
            "Get:2 http://archive.ubuntu.com/ubuntu jammy/universe amd64 libportaudiocpp0 amd64 19.6.0-1.1 [16.1 kB]\n",
            "Get:3 http://archive.ubuntu.com/ubuntu jammy/universe amd64 portaudio19-dev amd64 19.6.0-1.1 [106 kB]\n",
            "Fetched 188 kB in 0s (1,711 kB/s)\n",
            "Selecting previously unselected package libportaudio2:amd64.\n",
            "(Reading database ... 124926 files and directories currently installed.)\n",
            "Preparing to unpack .../libportaudio2_19.6.0-1.1_amd64.deb ...\n",
            "Unpacking libportaudio2:amd64 (19.6.0-1.1) ...\n",
            "Selecting previously unselected package libportaudiocpp0:amd64.\n",
            "Preparing to unpack .../libportaudiocpp0_19.6.0-1.1_amd64.deb ...\n",
            "Unpacking libportaudiocpp0:amd64 (19.6.0-1.1) ...\n",
            "Selecting previously unselected package portaudio19-dev:amd64.\n",
            "Preparing to unpack .../portaudio19-dev_19.6.0-1.1_amd64.deb ...\n",
            "Unpacking portaudio19-dev:amd64 (19.6.0-1.1) ...\n",
            "Setting up libportaudio2:amd64 (19.6.0-1.1) ...\n",
            "Setting up libportaudiocpp0:amd64 (19.6.0-1.1) ...\n",
            "Setting up portaudio19-dev:amd64 (19.6.0-1.1) ...\n",
            "Processing triggers for libc-bin (2.35-0ubuntu3.8) ...\n",
            "/sbin/ldconfig.real: /usr/local/lib/libur_adapter_level_zero.so.0 is not a symbolic link\n",
            "\n",
            "/sbin/ldconfig.real: /usr/local/lib/libtcm.so.1 is not a symbolic link\n",
            "\n",
            "/sbin/ldconfig.real: /usr/local/lib/libumf.so.0 is not a symbolic link\n",
            "\n",
            "/sbin/ldconfig.real: /usr/local/lib/libtcm_debug.so.1 is not a symbolic link\n",
            "\n",
            "/sbin/ldconfig.real: /usr/local/lib/libtbbbind_2_0.so.3 is not a symbolic link\n",
            "\n",
            "/sbin/ldconfig.real: /usr/local/lib/libtbb.so.12 is not a symbolic link\n",
            "\n",
            "/sbin/ldconfig.real: /usr/local/lib/libtbbbind.so.3 is not a symbolic link\n",
            "\n",
            "/sbin/ldconfig.real: /usr/local/lib/libur_loader.so.0 is not a symbolic link\n",
            "\n",
            "/sbin/ldconfig.real: /usr/local/lib/libur_adapter_opencl.so.0 is not a symbolic link\n",
            "\n",
            "/sbin/ldconfig.real: /usr/local/lib/libtbbbind_2_5.so.3 is not a symbolic link\n",
            "\n",
            "/sbin/ldconfig.real: /usr/local/lib/libtbbmalloc_proxy.so.2 is not a symbolic link\n",
            "\n",
            "/sbin/ldconfig.real: /usr/local/lib/libtbbmalloc.so.2 is not a symbolic link\n",
            "\n",
            "/sbin/ldconfig.real: /usr/local/lib/libhwloc.so.15 is not a symbolic link\n",
            "\n"
          ]
        }
      ]
    },
    {
      "cell_type": "code",
      "source": [
        "!pip install PyAudio"
      ],
      "metadata": {
        "colab": {
          "base_uri": "https://localhost:8080/"
        },
        "id": "Vhp5FOeJSC7T",
        "outputId": "6828f719-322a-4907-bbdd-1ef6fd69d6be"
      },
      "execution_count": 18,
      "outputs": [
        {
          "output_type": "stream",
          "name": "stdout",
          "text": [
            "Collecting PyAudio\n",
            "  Using cached PyAudio-0.2.14.tar.gz (47 kB)\n",
            "  Installing build dependencies ... \u001b[?25l\u001b[?25hdone\n",
            "  Getting requirements to build wheel ... \u001b[?25l\u001b[?25hdone\n",
            "  Preparing metadata (pyproject.toml) ... \u001b[?25l\u001b[?25hdone\n",
            "Building wheels for collected packages: PyAudio\n",
            "  Building wheel for PyAudio (pyproject.toml) ... \u001b[?25l\u001b[?25hdone\n",
            "  Created wheel for PyAudio: filename=PyAudio-0.2.14-cp311-cp311-linux_x86_64.whl size=67398 sha256=0f37e876735563d0f98f07349f114de8acc94fd149836bc03ba80dfcc6918d3c\n",
            "  Stored in directory: /root/.cache/pip/wheels/80/b1/c1/67e4ef443de2665d86031d4760508094eab5de37d5d64d9c27\n",
            "Successfully built PyAudio\n",
            "Installing collected packages: PyAudio\n",
            "Successfully installed PyAudio-0.2.14\n"
          ]
        }
      ]
    },
    {
      "cell_type": "code",
      "source": [
        "# Não tem como instalar essa biblioteca no colab. Funciona apenas no sistema operacional Windows\n",
        "!pip install pyiwin32"
      ],
      "metadata": {
        "colab": {
          "base_uri": "https://localhost:8080/"
        },
        "id": "TCP0JP0xS6L6",
        "outputId": "beea4b44-acc7-472b-ef8d-e7fc7f88aae8"
      },
      "execution_count": 25,
      "outputs": [
        {
          "output_type": "stream",
          "name": "stdout",
          "text": [
            "\u001b[31mERROR: Could not find a version that satisfies the requirement pyiwin32 (from versions: none)\u001b[0m\u001b[31m\n",
            "\u001b[0m\u001b[31mERROR: No matching distribution found for pyiwin32\u001b[0m\u001b[31m\n",
            "\u001b[0m"
          ]
        }
      ]
    },
    {
      "cell_type": "code",
      "source": [
        "!pip install winshell"
      ],
      "metadata": {
        "colab": {
          "base_uri": "https://localhost:8080/"
        },
        "id": "gCoUtgwESyLX",
        "outputId": "e1b68ded-d925-4072-eb14-c3f6bc6e68de"
      },
      "execution_count": 21,
      "outputs": [
        {
          "output_type": "stream",
          "name": "stdout",
          "text": [
            "Requirement already satisfied: winshell in /usr/local/lib/python3.11/dist-packages (0.6)\n"
          ]
        }
      ]
    },
    {
      "cell_type": "code",
      "source": [
        "#import section\n",
        "import speech_recognition as sr\n",
        "from gtts import gTTS\n",
        "import os\n",
        "from datetime import datetime\n",
        "import playsound\n",
        "import pyjokes\n",
        "import wikipedia\n",
        "import pyaudio\n",
        "import webbrowser\n",
        "import winshell\n",
        "from pygame import mixer"
      ],
      "metadata": {
        "id": "r5XCXcgTRkFE"
      },
      "execution_count": null,
      "outputs": []
    },
    {
      "cell_type": "code",
      "source": [
        "#get mic audio\n",
        "def get_audio():\n",
        "    r = sr.Recognizer()\n",
        "    with sr.Microphone() as source:\n",
        "        r.pause_threshold = 1\n",
        "        # wait for a second to let the recognizer adjust the\n",
        "        # energy threshold based on the surrounding noise level\n",
        "        r.adjust_for_ambient_noise(source, duration=1)\n",
        "        audio = r.listen(source)\n",
        "        said = \"\"\n",
        "        try:\n",
        "            said = r.recognize_google(audio)\n",
        "            print(said)\n",
        "        except sr.UnknownValueError:\n",
        "            speak(\"Sorry, I did not get that.\")\n",
        "        except sr.RequestError:\n",
        "            speak(\"Sorry, the service is not available\")\n",
        "    return said.lower()"
      ],
      "metadata": {
        "id": "uK58S6ekUW3S"
      },
      "execution_count": null,
      "outputs": []
    },
    {
      "cell_type": "code",
      "source": [
        "#speak converted audio to text\n",
        "def speak(text):\n",
        "    tts = gTTS(text=text, lang='en')\n",
        "    filename = \"voice.mp3\"\n",
        "    try:\n",
        "        os.remove(filename)\n",
        "    except OSError:\n",
        "        pass\n",
        "    tts.save(filename)\n",
        "    playsound.playsound(filename)\n"
      ],
      "metadata": {
        "id": "3M1dGfqbUY9s"
      },
      "execution_count": null,
      "outputs": []
    },
    {
      "cell_type": "code",
      "source": [
        "#function to respond to commands\n",
        "def respond(text):\n",
        "    print(\"Text from get audio \" + text)\n",
        "    if 'youtube' in text:\n",
        "        speak(\"What do you want to search for?\")\n",
        "        keyword = get_audio()\n",
        "        if keyword!= '':\n",
        "            url = f\"https://www.youtube.com/results?search_query={keyword}\"\n",
        "            webbrowser.get().open(url)\n",
        "            speak(f\"Here is what I have found for {keyword} on youtube\")\n",
        "    elif 'search' in text:\n",
        "        speak(\"What do you want to search for?\")\n",
        "        query = get_audio()\n",
        "        if query !='':\n",
        "            result = wikipedia.summary(query, sentences=3)\n",
        "            speak(\"According to wikipedia\")\n",
        "            print(result)\n",
        "            speak(result)\n",
        "    elif 'joke' in text:\n",
        "        speak(pyjokes.get_joke())\n",
        "    elif 'empty recycle bin' in text:\n",
        "        winshell.recycle_bin().empty(confirm=False, show_progress=False, sound=True)\n",
        "        speak(\"Recycle bin emptied\")\n",
        "    elif 'what time' in text:\n",
        "        strTime = datetime.today().strftime(\"%H:%M %p\")\n",
        "        print(strTime)\n",
        "        speak(strTime)\n",
        "    elif 'play music' in text or 'play song' in text:\n",
        "        speak(\"Now playing...\")\n",
        "        music_dir = \"C:\\\\Users\\\\UserName\\\\Downloads\\\\Music\\\\\" #add your music directory here..\n",
        "        songs = os.listdir(music_dir)\n",
        "        #counter = 0\n",
        "        print(songs)\n",
        "        playmusic(music_dir + \"\\\\\" + songs[0])\n",
        "    elif 'stop music' in text:\n",
        "        speak(\"Stopping playback.\")\n",
        "        stopmusic()\n",
        "    elif 'exit' in text:\n",
        "        speak(\"Goodbye, till next time\")\n",
        "        exit()"
      ],
      "metadata": {
        "id": "JPwJgyGQUdTD"
      },
      "execution_count": null,
      "outputs": []
    },
    {
      "cell_type": "code",
      "source": [
        "#play music\n",
        "def playmusic(song):\n",
        "    mixer.init()\n",
        "    mixer.music.load(song)\n",
        "    mixer.music.play()\n",
        "\n",
        "#stop music\n",
        "def stopmusic():\n",
        "    mixer.music.stop()"
      ],
      "metadata": {
        "id": "4hI2h5y1UhMV"
      },
      "execution_count": null,
      "outputs": []
    },
    {
      "cell_type": "code",
      "source": [
        "#let's try it\n",
        "#text = get_audio()\n",
        "#speak(text)\n",
        "while True:\n",
        "    print(\"I am listening...\")\n",
        "    text = get_audio()\n",
        "    respond(text)"
      ],
      "metadata": {
        "id": "EjbclurpUzoV"
      },
      "execution_count": null,
      "outputs": []
    }
  ]
}